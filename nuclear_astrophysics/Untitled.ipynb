{
 "cells": [
  {
   "cell_type": "code",
   "execution_count": 1,
   "metadata": {},
   "outputs": [],
   "source": [
    "import numpy as np\n",
    "import matplotlib.pyplot as plt\n",
    "from sympy import *\n",
    "init_printing(use_latex=True)"
   ]
  },
  {
   "cell_type": "code",
   "execution_count": 2,
   "metadata": {},
   "outputs": [],
   "source": [
    "t, l1, l2, l3, N1, N2, N3, x= symbols('t \\lambda_1 \\lambda_2 \\lambda_3 N1 N2 N3 x')\n",
    "N1 =Function('N1')(t)\n",
    "dN1 = N1.diff(t)\n",
    "N2 =Function('N2')(t)\n",
    "dN2 = N2.diff(t)\n",
    "N3 =Function('N3')(t)\n",
    "dN3 = N3.diff(t)"
   ]
  },
  {
   "cell_type": "code",
   "execution_count": 3,
   "metadata": {},
   "outputs": [
    {
     "data": {
      "image/png": "[encoded data removed]",
      "text/latex": [
       "$\\displaystyle \\left[ \\frac{d}{d t} \\operatorname{N_{1}}{\\left(t \\right)} = - \\lambda_1 \\operatorname{N_{1}}{\\left(t \\right)}, \\  \\frac{d}{d t} \\operatorname{N_{2}}{\\left(t \\right)} = \\lambda_1 \\operatorname{N_{1}}{\\left(t \\right)} - \\lambda_2 \\operatorname{N_{2}}{\\left(t \\right)}, \\  \\frac{d}{d t} \\operatorname{N_{3}}{\\left(t \\right)} = \\lambda_2 \\operatorname{N_{2}}{\\left(t \\right)}\\right]$"
      ],
      "text/plain": [
       "⎡d                            d                                            d  \n",
       "⎢──(N₁(t)) = -\\lambda₁⋅N₁(t), ──(N₂(t)) = \\lambda₁⋅N₁(t) - \\lambda₂⋅N₂(t), ──(\n",
       "⎣dt                           dt                                           dt \n",
       "\n",
       "                       ⎤\n",
       "N₃(t)) = \\lambda₂⋅N₂(t)⎥\n",
       "                       ⎦"
      ]
     },
     "execution_count": 3,
     "metadata": {},
     "output_type": "execute_result"
    }
   ],
   "source": [
    "expr = [Eq(dN1, -l1*N1), Eq(dN2, -l2*N2+l1*N1), Eq(dN3, l2*N2)]\n",
    "res = dsolve(expr)\n",
    "expr"
   ]
  },
  {
   "cell_type": "code",
   "execution_count": 4,
   "metadata": {},
   "outputs": [
    {
     "data": {
      "image/png": "[encoded data removed]",
      "text/latex": [
       "$\\displaystyle \\left[ \\operatorname{N_{1}}{\\left(t \\right)} = \\frac{C_{2} \\left(\\lambda_1 - \\lambda_2\\right) e^{- \\lambda_1 t}}{\\lambda_2}, \\  \\operatorname{N_{2}}{\\left(t \\right)} = - \\frac{C_{2} \\lambda_1 e^{- \\lambda_1 t}}{\\lambda_2} - C_{3} e^{- \\lambda_2 t}, \\  \\operatorname{N_{3}}{\\left(t \\right)} = C_{1} + C_{2} e^{- \\lambda_1 t} + C_{3} e^{- \\lambda_2 t}\\right]$"
      ],
      "text/plain": [
       "⎡                                  -\\lambda₁⋅t                         -\\lambd\n",
       "⎢        C₂⋅(\\lambda₁ - \\lambda₂)⋅ℯ                       C₂⋅\\lambda₁⋅ℯ       \n",
       "⎢N₁(t) = ─────────────────────────────────────, N₂(t) = - ────────────────────\n",
       "⎣                       \\lambda₂                                  \\lambda₂    \n",
       "\n",
       "a₁⋅t                                                                  ⎤\n",
       "           -\\lambda₂⋅t                   -\\lambda₁⋅t       -\\lambda₂⋅t⎥\n",
       "──── - C₃⋅ℯ           , N₃(t) = C₁ + C₂⋅ℯ            + C₃⋅ℯ           ⎥\n",
       "                                                                      ⎦"
      ]
     },
     "execution_count": 4,
     "metadata": {},
     "output_type": "execute_result"
    }
   ],
   "source": [
    "res"
   ]
  },
  {
   "cell_type": "code",
   "execution_count": 8,
   "metadata": {},
   "outputs": [
    {
     "ename": "IndexError",
     "evalue": "pop from empty list",
     "output_type": "error",
     "traceback": [
      "\u001b[0;31m---------------------------------------------------------------------------\u001b[0m",
      "\u001b[0;31mIndexError\u001b[0m                                Traceback (most recent call last)",
      "\u001b[0;32m<ipython-input-8-90201ad0d3d6>\u001b[0m in \u001b[0;36m<module>\u001b[0;34m\u001b[0m\n\u001b[0;32m----> 1\u001b[0;31m \u001b[0mres\u001b[0m\u001b[0;34m.\u001b[0m\u001b[0mpop\u001b[0m\u001b[0;34m(\u001b[0m\u001b[0;34m)\u001b[0m\u001b[0;34m\u001b[0m\u001b[0;34m\u001b[0m\u001b[0m\n\u001b[0m",
      "\u001b[0;31mIndexError\u001b[0m: pop from empty list"
     ]
    }
   ],
   "source": []
  },
  {
   "cell_type": "code",
   "execution_count": null,
   "metadata": {},
   "outputs": [],
   "source": []
  }
 ],
 "metadata": {
  "kernelspec": {
   "display_name": "Python 3",
   "language": "python",
   "name": "python3"
  },
  "language_info": {
   "codemirror_mode": {
    "name": "ipython",
    "version": 3
   },
   "file_extension": ".py",
   "mimetype": "text/x-python",
   "name": "python",
   "nbconvert_exporter": "python",
   "pygments_lexer": "ipython3",
   "version": "3.8.3"
  }
 },
 "nbformat": 4,
 "nbformat_minor": 4
}
