{
 "cells": [
  {
   "cell_type": "code",
   "execution_count": 1,
   "metadata": {},
   "outputs": [],
   "source": [
    "from sympy import *"
   ]
  },
  {
   "cell_type": "code",
   "execution_count": 37,
   "metadata": {},
   "outputs": [],
   "source": [
    "k1, k3, l, mu, epsilon = symbols('k_1 k_3 l \\mu \\epsilon')\n",
    "r = Symbol('r')"
   ]
  },
  {
   "cell_type": "code",
   "execution_count": 38,
   "metadata": {},
   "outputs": [
    {
     "data": {
      "text/latex": [
       "$\\displaystyle - \\frac{k_{1}}{r} - \\frac{k_{3}}{r^{3}} + \\frac{l^{2}}{2 \\mu r^{2}}$"
      ],
      "text/plain": [
       "-k_1/r - k_3/r**3 + l**2/(2*\\mu*r**2)"
      ]
     },
     "execution_count": 38,
     "metadata": {},
     "output_type": "execute_result"
    }
   ],
   "source": [
    "Ve = -k1/r + l**2 /(2* mu*r**2) - k3/r**3\n",
    "Ve"
   ]
  },
  {
   "cell_type": "code",
   "execution_count": 39,
   "metadata": {},
   "outputs": [
    {
     "data": {
      "text/latex": [
       "$\\displaystyle \\left\\{\\frac{l^{2}}{4 \\mu k_{1}} - \\frac{\\sqrt{- 16 \\mu^{2} k_{1} k_{3} + l^{4}}}{4 \\mu k_{1}}, \\frac{l^{2}}{4 \\mu k_{1}} + \\frac{\\sqrt{- 16 \\mu^{2} k_{1} k_{3} + l^{4}}}{4 \\mu k_{1}}\\right\\} \\setminus \\left\\{0\\right\\}$"
      ],
      "text/plain": [
       "Complement(FiniteSet(l**2/(4*\\mu*k_1) - sqrt(-16*\\mu**2*k_1*k_3 + l**4)/(4*\\mu*k_1), l**2/(4*\\mu*k_1) + sqrt(-16*\\mu**2*k_1*k_3 + l**4)/(4*\\mu*k_1)), FiniteSet(0))"
      ]
     },
     "execution_count": 39,
     "metadata": {},
     "output_type": "execute_result"
    }
   ],
   "source": [
    "solveset(Ve,r)"
   ]
  },
  {
   "cell_type": "code",
   "execution_count": 40,
   "metadata": {},
   "outputs": [
    {
     "data": {
      "text/latex": [
       "$\\displaystyle \\frac{k_{1}}{r^{2}} + \\frac{3 k_{3}}{r^{4}} - \\frac{l^{2}}{\\mu r^{3}}$"
      ],
      "text/plain": [
       "k_1/r**2 + 3*k_3/r**4 - l**2/(\\mu*r**3)"
      ]
     },
     "execution_count": 40,
     "metadata": {},
     "output_type": "execute_result"
    }
   ],
   "source": [
    "f = diff(Ve,r)\n",
    "f"
   ]
  },
  {
   "cell_type": "code",
   "execution_count": 41,
   "metadata": {},
   "outputs": [
    {
     "data": {
      "text/latex": [
       "$\\displaystyle \\left\\{\\frac{l^{2}}{2 \\mu k_{1}} - \\frac{\\sqrt{- 12 \\mu^{2} k_{1} k_{3} + l^{4}}}{2 \\mu k_{1}}, \\frac{l^{2}}{2 \\mu k_{1}} + \\frac{\\sqrt{- 12 \\mu^{2} k_{1} k_{3} + l^{4}}}{2 \\mu k_{1}}\\right\\} \\setminus \\left\\{0\\right\\}$"
      ],
      "text/plain": [
       "Complement(FiniteSet(l**2/(2*\\mu*k_1) - sqrt(-12*\\mu**2*k_1*k_3 + l**4)/(2*\\mu*k_1), l**2/(2*\\mu*k_1) + sqrt(-12*\\mu**2*k_1*k_3 + l**4)/(2*\\mu*k_1)), FiniteSet(0))"
      ]
     },
     "execution_count": 41,
     "metadata": {},
     "output_type": "execute_result"
    }
   ],
   "source": [
    "sol = solveset(f,r)\n",
    "sol"
   ]
  },
  {
   "cell_type": "code",
   "execution_count": 42,
   "metadata": {},
   "outputs": [
    {
     "data": {
      "text/latex": [
       "$\\displaystyle \\frac{l^{2}}{2 \\mu k_{1}} - \\frac{\\sqrt{- 12 \\mu^{2} k_{1} k_{3} + l^{4}}}{2 \\mu k_{1}}$"
      ],
      "text/plain": [
       "l**2/(2*\\mu*k_1) - sqrt(-12*\\mu**2*k_1*k_3 + l**4)/(2*\\mu*k_1)"
      ]
     },
     "execution_count": 42,
     "metadata": {},
     "output_type": "execute_result"
    }
   ],
   "source": [
    "sol1 = sol.args[0].args[0]\n",
    "sol1"
   ]
  },
  {
   "cell_type": "code",
   "execution_count": 43,
   "metadata": {},
   "outputs": [
    {
     "data": {
      "text/latex": [
       "$\\displaystyle - \\frac{\\sqrt{l^{4}}}{2 \\mu k_{1}} + \\frac{l^{2}}{2 \\mu k_{1}} + \\frac{3 \\mu k_{3} \\sqrt{l^{4}}}{l^{4}} + \\frac{9 \\mu^{3} k_{1} k_{3}^{2} \\sqrt{l^{4}}}{l^{8}} + \\frac{54 \\mu^{5} k_{1}^{2} k_{3}^{3} \\sqrt{l^{4}}}{l^{12}} + \\frac{405 \\mu^{7} k_{1}^{3} k_{3}^{4} \\sqrt{l^{4}}}{l^{16}} + \\frac{3402 \\mu^{9} k_{1}^{4} k_{3}^{5} \\sqrt{l^{4}}}{l^{20}} + O\\left(k_{3}^{6}\\right)$"
      ],
      "text/plain": [
       "-sqrt(l**4)/(2*\\mu*k_1) + l**2/(2*\\mu*k_1) + 3*\\mu*k_3*sqrt(l**4)/l**4 + 9*\\mu**3*k_1*k_3**2*sqrt(l**4)/l**8 + 54*\\mu**5*k_1**2*k_3**3*sqrt(l**4)/l**12 + 405*\\mu**7*k_1**3*k_3**4*sqrt(l**4)/l**16 + 3402*\\mu**9*k_1**4*k_3**5*sqrt(l**4)/l**20 + O(k_3**6)"
      ]
     },
     "execution_count": 43,
     "metadata": {},
     "output_type": "execute_result"
    }
   ],
   "source": [
    "series(sol1,k3)"
   ]
  },
  {
   "cell_type": "code",
   "execution_count": 44,
   "metadata": {},
   "outputs": [
    {
     "data": {
      "text/latex": [
       "$\\displaystyle \\frac{l^{2}}{2 \\mu k_{1}} + \\frac{\\sqrt{- 12 \\mu^{2} k_{1} k_{3} + l^{4}}}{2 \\mu k_{1}}$"
      ],
      "text/plain": [
       "l**2/(2*\\mu*k_1) + sqrt(-12*\\mu**2*k_1*k_3 + l**4)/(2*\\mu*k_1)"
      ]
     },
     "execution_count": 44,
     "metadata": {},
     "output_type": "execute_result"
    }
   ],
   "source": [
    "sol2 = sol.args[0].args[1]\n",
    "sol2"
   ]
  },
  {
   "cell_type": "code",
   "execution_count": 45,
   "metadata": {},
   "outputs": [
    {
     "data": {
      "text/latex": [
       "$\\displaystyle \\frac{\\sqrt{l^{4}}}{2 \\mu k_{1}} + \\frac{l^{2}}{2 \\mu k_{1}} - \\frac{3 \\mu k_{3} \\sqrt{l^{4}}}{l^{4}} - \\frac{9 \\mu^{3} k_{1} k_{3}^{2} \\sqrt{l^{4}}}{l^{8}} - \\frac{54 \\mu^{5} k_{1}^{2} k_{3}^{3} \\sqrt{l^{4}}}{l^{12}} - \\frac{405 \\mu^{7} k_{1}^{3} k_{3}^{4} \\sqrt{l^{4}}}{l^{16}} - \\frac{3402 \\mu^{9} k_{1}^{4} k_{3}^{5} \\sqrt{l^{4}}}{l^{20}} + O\\left(k_{3}^{6}\\right)$"
      ],
      "text/plain": [
       "sqrt(l**4)/(2*\\mu*k_1) + l**2/(2*\\mu*k_1) - 3*\\mu*k_3*sqrt(l**4)/l**4 - 9*\\mu**3*k_1*k_3**2*sqrt(l**4)/l**8 - 54*\\mu**5*k_1**2*k_3**3*sqrt(l**4)/l**12 - 405*\\mu**7*k_1**3*k_3**4*sqrt(l**4)/l**16 - 3402*\\mu**9*k_1**4*k_3**5*sqrt(l**4)/l**20 + O(k_3**6)"
      ]
     },
     "execution_count": 45,
     "metadata": {},
     "output_type": "execute_result"
    }
   ],
   "source": [
    "series(sol2,k3)"
   ]
  },
  {
   "cell_type": "code",
   "execution_count": 46,
   "metadata": {},
   "outputs": [
    {
     "data": {
      "text/latex": [
       "$\\displaystyle \\frac{3 \\epsilon}{2 - 3 \\epsilon}$"
      ],
      "text/plain": [
       "3*\\epsilon/(2 - 3*\\epsilon)"
      ]
     },
     "execution_count": 46,
     "metadata": {},
     "output_type": "execute_result"
    }
   ],
   "source": [
    "A = 3*epsilon/(2-3*epsilon)\n",
    "A"
   ]
  },
  {
   "cell_type": "code",
   "execution_count": 48,
   "metadata": {},
   "outputs": [
    {
     "data": {
      "text/latex": [
       "$\\displaystyle \\frac{3 \\epsilon}{2} + \\frac{9 \\epsilon^{2}}{4} + \\frac{27 \\epsilon^{3}}{8} + \\frac{81 \\epsilon^{4}}{16} + \\frac{243 \\epsilon^{5}}{32} + O\\left(\\epsilon^{6}\\right)$"
      ],
      "text/plain": [
       "3*\\epsilon/2 + 9*\\epsilon**2/4 + 27*\\epsilon**3/8 + 81*\\epsilon**4/16 + 243*\\epsilon**5/32 + O(\\epsilon**6)"
      ]
     },
     "execution_count": 48,
     "metadata": {},
     "output_type": "execute_result"
    }
   ],
   "source": [
    "series(A,epsilon)"
   ]
  },
  {
   "cell_type": "code",
   "execution_count": null,
   "metadata": {},
   "outputs": [],
   "source": []
  }
 ],
 "metadata": {
  "kernelspec": {
   "display_name": "Python 3",
   "language": "python",
   "name": "python3"
  },
  "language_info": {
   "codemirror_mode": {
    "name": "ipython",
    "version": 3
   },
   "file_extension": ".py",
   "mimetype": "text/x-python",
   "name": "python",
   "nbconvert_exporter": "python",
   "pygments_lexer": "ipython3",
   "version": "3.7.6"
  }
 },
 "nbformat": 4,
 "nbformat_minor": 4
}
