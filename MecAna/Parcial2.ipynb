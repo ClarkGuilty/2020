{
 "cells": [
  {
   "cell_type": "code",
   "execution_count": 1,
   "metadata": {},
   "outputs": [],
   "source": [
    "from sympy import *\n",
    "init_printing()\n",
    "from sympy.physics.mechanics import dynamicsymbols, init_vprinting\n",
    "init_vprinting()\n",
    "t = Symbol('t')\n",
    "theta , phi, psi = dynamicsymbols('theta phi psi')"
   ]
  },
  {
   "cell_type": "code",
   "execution_count": 2,
   "metadata": {},
   "outputs": [
    {
     "data": {
      "image/png": "[encoded data removed]",
      "text/latex": [
       "$\\displaystyle \\left( \\dot{r}, \\  \\dot{\\phi}\\right)$"
      ],
      "text/plain": [
       "(ṙ, φ̇)"
      ]
     },
     "execution_count": 2,
     "metadata": {},
     "output_type": "execute_result"
    }
   ],
   "source": [
    "#Problema 1\n",
    "m, c, k = symbols('m c k', real=True)\n",
    "pr, pphi = symbols('P_r P_{\\phi}')\n",
    "r, phi = dynamicsymbols('r phi')\n",
    "rd = diff(r,t)\n",
    "phid = diff(phi,t)\n",
    "rd,phid"
   ]
  },
  {
   "cell_type": "code",
   "execution_count": 3,
   "metadata": {},
   "outputs": [
    {
     "data": {
      "image/png": "[encoded data removed]",
      "text/latex": [
       "$\\displaystyle - c^{2} m \\sqrt{1 - \\frac{r^{2} \\dot{\\phi}^{2} + \\dot{r}^{2}}{c^{2}}} + \\frac{k}{r}$"
      ],
      "text/plain": [
       "             ________________    \n",
       "            ╱      2  2    2     \n",
       "   2       ╱     r ⋅φ̇  + ṙ    k\n",
       "- c ⋅m⋅   ╱   1 - ──────────  + ─\n",
       "         ╱             2        r\n",
       "       ╲╱             c          "
      ]
     },
     "execution_count": 3,
     "metadata": {},
     "output_type": "execute_result"
    }
   ],
   "source": [
    "Lagrangian = -m*c**2*sqrt(1- (rd**2 + r**2*phid**2)/c**2) + k/r\n",
    "Lagrangian"
   ]
  },
  {
   "cell_type": "code",
   "execution_count": 4,
   "metadata": {},
   "outputs": [
    {
     "data": {
      "image/png": "[encoded data removed]",
      "text/latex": [
       "$\\displaystyle \\frac{m \\dot{r}}{\\sqrt{1 - \\frac{r^{2} \\dot{\\phi}^{2} + \\dot{r}^{2}}{c^{2}}}}$"
      ],
      "text/plain": [
       "         m⋅ṙ         \n",
       "──────────────────────\n",
       "      ________________\n",
       "     ╱      2  2    2 \n",
       "    ╱     r ⋅φ̇  + ṙ \n",
       "   ╱   1 - ────────── \n",
       "  ╱             2     \n",
       "╲╱             c      "
      ]
     },
     "execution_count": 4,
     "metadata": {},
     "output_type": "execute_result"
    }
   ],
   "source": [
    "Pr = diff(Lagrangian,rd)\n",
    "Pr"
   ]
  },
  {
   "cell_type": "code",
   "execution_count": 5,
   "metadata": {},
   "outputs": [
    {
     "data": {
      "image/png": "[encoded data removed]",
      "text/latex": [
       "$\\displaystyle \\frac{m r^{2} \\dot{\\phi}}{\\sqrt{1 - \\frac{r^{2} \\dot{\\phi}^{2} + \\dot{r}^{2}}{c^{2}}}}$"
      ],
      "text/plain": [
       "           2          \n",
       "       m⋅r ⋅φ̇        \n",
       "──────────────────────\n",
       "      ________________\n",
       "     ╱      2  2    2 \n",
       "    ╱     r ⋅φ̇  + ṙ \n",
       "   ╱   1 - ────────── \n",
       "  ╱             2     \n",
       "╲╱             c      "
      ]
     },
     "execution_count": 5,
     "metadata": {},
     "output_type": "execute_result"
    }
   ],
   "source": [
    "Pphi = diff(Lagrangian,phid)\n",
    "Pphi"
   ]
  },
  {
   "cell_type": "code",
   "execution_count": 6,
   "metadata": {},
   "outputs": [
    {
     "data": {
      "image/png": "[encoded data removed]",
      "text/latex": [
       "$\\displaystyle - \\frac{k}{r} + \\sqrt{P_{r}^{2} c^{2} + \\frac{P_{\\phi}^{2} c^{2}}{r^{2}} + c^{2} m^{2}}$"
      ],
      "text/plain": [
       "            _______________________________\n",
       "           ╱                  2  2         \n",
       "  k       ╱    2  2   P_{\\phi} ⋅c     2  2 \n",
       "- ─ +    ╱   Pᵣ ⋅c  + ──────────── + c ⋅m  \n",
       "  r     ╱                   2              \n",
       "      ╲╱                   r               "
      ]
     },
     "execution_count": 6,
     "metadata": {},
     "output_type": "execute_result"
    }
   ],
   "source": [
    "E = sqrt(m**2*c**2+pr**2*c**2+pphi**2*c**2/r**2) - k/r\n",
    "E"
   ]
  },
  {
   "cell_type": "code",
   "execution_count": 7,
   "metadata": {},
   "outputs": [
    {
     "data": {
      "image/png": "[encoded data removed]",
      "text/latex": [
       "$\\displaystyle \\left( J_{r}, \\  P_{\\phi}^{2} c^{2} - k^{2}\\right)$"
      ],
      "text/plain": [
       "⎛            2  2    2⎞\n",
       "⎝Jᵣ, P_{\\phi} ⋅c  - k ⎠"
      ]
     },
     "execution_count": 7,
     "metadata": {},
     "output_type": "execute_result"
    }
   ],
   "source": [
    "Jr = Symbol('J_r')\n",
    "rho = pphi **2 *c**2 - k**2 \n",
    "Jr, rho"
   ]
  },
  {
   "cell_type": "code",
   "execution_count": 8,
   "metadata": {},
   "outputs": [
    {
     "data": {
      "image/png": "[encoded data removed]",
      "text/latex": [
       "$\\displaystyle \\frac{1}{\\left(\\frac{J_{r} c}{2 \\pi \\sqrt{P_{\\phi}^{2} c^{2} - k^{2}}} + 1\\right)^{2}}$"
      ],
      "text/plain": [
       "                1                \n",
       "─────────────────────────────────\n",
       "                                2\n",
       "⎛           Jᵣ⋅c               ⎞ \n",
       "⎜────────────────────────── + 1⎟ \n",
       "⎜       ___________________    ⎟ \n",
       "⎜      ╱         2  2    2     ⎟ \n",
       "⎝2⋅π⋅╲╱  P_{\\phi} ⋅c  - k      ⎠ "
      ]
     },
     "execution_count": 8,
     "metadata": {},
     "output_type": "execute_result"
    }
   ],
   "source": [
    "sigma = (1 + Jr*c/2/pi/sqrt(rho))**-2\n",
    "sigma"
   ]
  },
  {
   "cell_type": "code",
   "execution_count": 9,
   "metadata": {},
   "outputs": [
    {
     "data": {
      "image/png": "[encoded data removed]",
      "text/latex": [
       "$\\displaystyle \\frac{c^{2} m}{\\left(- \\frac{k}{\\left(P_{\\phi}^{2} c^{2} - k^{2}\\right) \\left(\\frac{J_{r} c}{2 \\pi \\sqrt{P_{\\phi}^{2} c^{2} - k^{2}}} + 1\\right)^{2}} + 1\\right)^{0.5}}$"
      ],
      "text/plain": [
       "                                                                  -0.5\n",
       " 2   ⎛                            k                              ⎞    \n",
       "c ⋅m⋅⎜- ───────────────────────────────────────────────────── + 1⎟    \n",
       "     ⎜                                                      2    ⎟    \n",
       "     ⎜  ⎛        2  2    2⎞ ⎛           Jᵣ⋅c               ⎞     ⎟    \n",
       "     ⎜  ⎝P_{\\phi} ⋅c  - k ⎠⋅⎜────────────────────────── + 1⎟     ⎟    \n",
       "     ⎜                      ⎜       ___________________    ⎟     ⎟    \n",
       "     ⎜                      ⎜      ╱         2  2    2     ⎟     ⎟    \n",
       "     ⎝                      ⎝2⋅π⋅╲╱  P_{\\phi} ⋅c  - k      ⎠     ⎠    "
      ]
     },
     "execution_count": 9,
     "metadata": {},
     "output_type": "execute_result"
    }
   ],
   "source": [
    "Energia = m*c**2 * (1 - k*sigma/rho)**(-1/2)\n",
    "Energia"
   ]
  },
  {
   "cell_type": "code",
   "execution_count": 10,
   "metadata": {},
   "outputs": [
    {
     "data": {
      "image/png": "[encoded data removed]",
      "text/latex": [
       "$\\displaystyle - \\frac{8.0 \\pi^{3} c^{3} k m}{\\left(J_{r} c + 2 \\pi \\sqrt{P_{\\phi}^{2} c^{2} - k^{2}}\\right)^{3} \\left(- \\frac{4 \\pi^{2} k}{\\left(J_{r} c + 2 \\pi \\sqrt{P_{\\phi}^{2} c^{2} - k^{2}}\\right)^{2}} + 1\\right)^{1.5}}$"
      ],
      "text/plain": [
       "                                                           -1.5 \n",
       "               ⎛                    2                     ⎞     \n",
       "      3  3     ⎜                 4⋅π ⋅k                   ⎟     \n",
       "-8.0⋅π ⋅c ⋅k⋅m⋅⎜- ──────────────────────────────────── + 1⎟     \n",
       "               ⎜                                     2    ⎟     \n",
       "               ⎜  ⎛              ___________________⎞     ⎟     \n",
       "               ⎜  ⎜             ╱         2  2    2 ⎟     ⎟     \n",
       "               ⎝  ⎝Jᵣ⋅c + 2⋅π⋅╲╱  P_{\\phi} ⋅c  - k  ⎠     ⎠     \n",
       "────────────────────────────────────────────────────────────────\n",
       "                                                 3              \n",
       "              ⎛              ___________________⎞               \n",
       "              ⎜             ╱         2  2    2 ⎟               \n",
       "              ⎝Jᵣ⋅c + 2⋅π⋅╲╱  P_{\\phi} ⋅c  - k  ⎠               "
      ]
     },
     "execution_count": 10,
     "metadata": {},
     "output_type": "execute_result"
    }
   ],
   "source": [
    "wr = simplify(diff(Energia, Jr))*2*pi\n",
    "wr #Esta es la parte que hice únicamente en Sympy y anoté en el texto."
   ]
  },
  {
   "cell_type": "code",
   "execution_count": 11,
   "metadata": {},
   "outputs": [
    {
     "data": {
      "image/png": "[encoded data removed]",
      "text/latex": [
       "$\\displaystyle - \\frac{8.0 \\pi^{3} P_{\\phi} c^{4} k m}{\\left(J_{r} c + 2 \\pi \\sqrt{P_{\\phi}^{2} c^{2} - k^{2}}\\right)^{3} \\sqrt{P_{\\phi}^{2} c^{2} - k^{2}} \\left(- \\frac{4 \\pi^{2} k}{\\left(J_{r} c + 2 \\pi \\sqrt{P_{\\phi}^{2} c^{2} - k^{2}}\\right)^{2}} + 1\\right)^{1.5}}$"
      ],
      "text/plain": [
       "                                                                    -1.5 \n",
       "                        ⎛                    2                     ⎞     \n",
       "      3           4     ⎜                 4⋅π ⋅k                   ⎟     \n",
       "-8.0⋅π ⋅P_{\\phi}⋅c ⋅k⋅m⋅⎜- ──────────────────────────────────── + 1⎟     \n",
       "                        ⎜                                     2    ⎟     \n",
       "                        ⎜  ⎛              ___________________⎞     ⎟     \n",
       "                        ⎜  ⎜             ╱         2  2    2 ⎟     ⎟     \n",
       "                        ⎝  ⎝Jᵣ⋅c + 2⋅π⋅╲╱  P_{\\phi} ⋅c  - k  ⎠     ⎠     \n",
       "─────────────────────────────────────────────────────────────────────────\n",
       "                                          3                              \n",
       "       ⎛              ___________________⎞     ___________________       \n",
       "       ⎜             ╱         2  2    2 ⎟    ╱         2  2    2        \n",
       "       ⎝Jᵣ⋅c + 2⋅π⋅╲╱  P_{\\phi} ⋅c  - k  ⎠ ⋅╲╱  P_{\\phi} ⋅c  - k         "
      ]
     },
     "execution_count": 11,
     "metadata": {},
     "output_type": "execute_result"
    }
   ],
   "source": [
    "wphi = simplify(diff(Energia, pphi))\n",
    "wphi #Esta es la parte que hice únicamente en Sympy y anoté en el texto."
   ]
  }
 ],
 "metadata": {
  "kernelspec": {
   "display_name": "Python 3",
   "language": "python",
   "name": "python3"
  },
  "language_info": {
   "codemirror_mode": {
    "name": "ipython",
    "version": 3
   },
   "file_extension": ".py",
   "mimetype": "text/x-python",
   "name": "python",
   "nbconvert_exporter": "python",
   "pygments_lexer": "ipython3",
   "version": "3.7.6"
  }
 },
 "nbformat": 4,
 "nbformat_minor": 4
}
